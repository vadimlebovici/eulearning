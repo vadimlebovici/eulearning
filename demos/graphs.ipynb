{
 "cells": [
  {
   "cell_type": "markdown",
   "metadata": {},
   "source": [
    "# Graph classification\n",
    "\n",
    "**Authors:** Olympio Hacquard and Vadim Lebovici\n",
    "\n",
    "**Date:** March 2023"
   ]
  },
  {
   "cell_type": "markdown",
   "metadata": {},
   "source": [
    "-----"
   ]
  },
  {
   "cell_type": "code",
   "execution_count": null,
   "metadata": {},
   "outputs": [],
   "source": [
    "import sys\n",
    "sys.path.append('../')"
   ]
  },
  {
   "attachments": {},
   "cell_type": "markdown",
   "metadata": {},
   "source": [
    "# Computing multi-parameter filtrations\n",
    "\n",
    "To build sublevel sets filtrations of graphs, we consider the heat-kernel signature, the Ollivier-Ricci and Forman-Ricci curvatures, centrality, and edge betweenness on connected graphs. In addition, some datasets (`PROTEINS`, `COX2`, `DHFR`) come with functions defined on the graph nodes. These functions can be computed as it is done with the method `_extract_intrinsic_funcs_DHFR()` from `eulearning.datasets`.\n",
    "\n",
    "The available filtrations can be computed using the respective keywords: `hks_time` for the heat kernel signature, `ricci_alpha_iterations` for the Ollivier-Ricci curvature, `forman` for the Forman-Ricci curvature, `centrality` for the centrality function, `betweenness` for the edge betweenness and `func_ind` for the ind-th function pre-defined on the graphs of this specific dataset. For instance, one can choose `hks_10.0`, `ricci_0.5_0`, `forman`, `centrality`, `betweenness`, and `func_0`, as it is done below:"
   ]
  },
  {
   "cell_type": "code",
   "execution_count": null,
   "metadata": {},
   "outputs": [],
   "source": [
    "name_filtrations = ['hks_10.0', 'ricci_0.5_0', 'forman', 'edge_betweenness', 'centrality', 'func_0']\n",
    "n_params = len(name_filtrations)"
   ]
  },
  {
   "attachments": {},
   "cell_type": "markdown",
   "metadata": {},
   "source": [
    "We load the dataset `DHFR` and compute its vectorized simplex trees associated to the combination of the chosen filtrations."
   ]
  },
  {
   "cell_type": "code",
   "execution_count": null,
   "metadata": {},
   "outputs": [],
   "source": [
    "from eulearning.datasets import load_graph_dataset\n",
    "\n",
    "dataset = 'DHFR' # The other datasets 'MUTAG', 'COX2', 'PROTEINS', 'NCI1', 'NCI109','IMDB-BINARY' and 'IMDB-MULTI' are available on the Perslay repository https://github.com/MathieuCarriere/perslay.\n",
    "path_to_dataset = '../data/' + dataset + '/'\n",
    "\n",
    "vec_sts, y = load_graph_dataset(dataset, path_to_dataset, name_filtrations)"
   ]
  },
  {
   "cell_type": "markdown",
   "metadata": {},
   "source": [
    "# Computing Euler characteristic descriptors\n",
    "We compute the Euler characteristic profiles of the above multi-filtrations, as well as their Radon transform and hybrid transforms."
   ]
  },
  {
   "cell_type": "markdown",
   "metadata": {},
   "source": [
    "### Euler characteristic profiles"
   ]
  },
  {
   "cell_type": "code",
   "execution_count": null,
   "metadata": {},
   "outputs": [],
   "source": [
    "from eulearning.descriptors import EulerCharacteristicProfile\n",
    "\n",
    "euler_profile = EulerCharacteristicProfile(resolution=tuple(10 for _ in range(n_params)), quantiles=[(0, 1) for _ in range(n_params)]) # ECPs are flatten by default to fit with sklearn classifiers. Set flatten=False to unflatten them.\n",
    "ecps = euler_profile.fit_transform(vec_sts)"
   ]
  },
  {
   "cell_type": "markdown",
   "metadata": {},
   "source": [
    "### Radon transforms"
   ]
  },
  {
   "cell_type": "code",
   "execution_count": null,
   "metadata": {},
   "outputs": [],
   "source": [
    "from eulearning.descriptors import RadonTransform\n",
    "\n",
    "radon_transform = RadonTransform(tuple(10 for _ in range(n_params)), quantiles=[0]*n_params)\n",
    "rdns = radon_transform.fit_transform(vec_sts)"
   ]
  },
  {
   "cell_type": "markdown",
   "metadata": {},
   "source": [
    "### Hybrid transforms"
   ]
  },
  {
   "cell_type": "code",
   "execution_count": null,
   "metadata": {},
   "outputs": [],
   "source": [
    "from eulearning.descriptors import HybridTransform\n",
    "\n",
    "hybrid_transform = HybridTransform(tuple(10 for _ in range(n_params)), quantiles=[0]*n_params, kernel_name='exp_4')\n",
    "hts = hybrid_transform.fit_transform(vec_sts)"
   ]
  },
  {
   "cell_type": "markdown",
   "metadata": {},
   "source": [
    "# Classifying dataset"
   ]
  },
  {
   "cell_type": "code",
   "execution_count": null,
   "metadata": {},
   "outputs": [],
   "source": [
    "import numpy as np\n",
    "from sklearn.model_selection \timport train_test_split\n",
    "from xgboost\t\t\t\t\timport XGBClassifier\n",
    "\n",
    "clf = XGBClassifier()\n",
    "\n",
    "# Classifying using Euler characteristic profiles\n",
    "ecps_train, ecps_test, y_train, y_test = train_test_split(ecps, y, test_size=0.1)\n",
    "clf.fit(ecps_train, y_train)\n",
    "ecps_score = clf.score(ecps_test, y_test)\n",
    "print('ECPs score:', np.round(ecps_score*100, decimals=2), '%')\n",
    "\n",
    "# Classifying using Radon transforms\n",
    "rdns_train, rdns_test, y_train, y_test = train_test_split(rdns, y, test_size=0.1)\n",
    "clf.fit(rdns_train, y_train)\n",
    "rdns_score = clf.score(rdns_test, y_test)\n",
    "print(' RTs score:', np.round(rdns_score*100, decimals=2), '%')\n",
    "\n",
    "# Classifying using hybrid transforms\n",
    "hts_train, hts_test, y_train, y_test = train_test_split(hts, y, test_size=0.1)\n",
    "clf.fit(hts_train, y_train)\n",
    "hts_score = clf.score(hts_test, y_test)\n",
    "print(' HTs score:', np.round(hts_score*100, decimals=2), '%')"
   ]
  }
 ],
 "metadata": {
  "kernelspec": {
   "display_name": "Python 3 (ipykernel)",
   "language": "python",
   "name": "python3"
  },
  "language_info": {
   "codemirror_mode": {
    "name": "ipython",
    "version": 3
   },
   "file_extension": ".py",
   "mimetype": "text/x-python",
   "name": "python",
   "nbconvert_exporter": "python",
   "pygments_lexer": "ipython3",
   "version": "3.7.11"
  }
 },
 "nbformat": 4,
 "nbformat_minor": 2
}
